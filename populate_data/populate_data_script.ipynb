{
  "cells": [
    {
      "cell_type": "code",
      "execution_count": null,
      "id": "5b4eb361-0802-4fe7-8798-9c04854a873f",
      "metadata": {
        "trusted": true
      },
      "outputs": [],
      "source": [
        "#used the https://jikan.moe/#how-it-works, and manual entry to insert data\n",
        "import requests\n",
        "import psycopg2\n",
        "import json"
      ]
    },
    {
      "cell_type": "code",
      "execution_count": null,
      "id": "683de330",
      "metadata": {},
      "outputs": [],
      "source": [
        "#establishing the connection\n",
        "conn = psycopg2.connect(\n",
        "    database='',\n",
        "    user='',\n",
        "    password='',\n",
        "    host='',\n",
        "    port=''\n",
        ")"
      ]
    },
    {
      "cell_type": "code",
      "execution_count": 4,
      "id": "c234d946",
      "metadata": {},
      "outputs": [],
      "source": [
        "#creating cursor object\n",
        "cursor = conn.cursor()"
      ]
    },
    {
      "cell_type": "code",
      "execution_count": 168,
      "id": "279cf8a1",
      "metadata": {},
      "outputs": [],
      "source": [
        "#generate a secure, deterministic token from a string using SHA-256\n",
        "import hashlib\n",
        "\n",
        "def generate_token_from_string(input_string):\n",
        "    hash_object = hashlib.sha256(input_string.encode('utf-8'))\n",
        "    return hash_object.hexdigest()"
      ]
    },
    {
      "cell_type": "code",
      "execution_count": null,
      "id": "ed239596",
      "metadata": {},
      "outputs": [],
      "source": [
        "dummy_user_token = generate_token_from_string(\"DUMMY123\")\n",
        "dummy_user_token"
      ]
    },
    {
      "cell_type": "code",
      "execution_count": null,
      "id": "b66b90c2",
      "metadata": {},
      "outputs": [],
      "source": [
        "#when query fails perform rollback\n",
        "conn.rollback()\n"
      ]
    },
    {
      "cell_type": "code",
      "execution_count": null,
      "id": "2ffbac95",
      "metadata": {},
      "outputs": [],
      "source": [
        "#✅ add user\n",
        "# try:\n",
        "#     cursor.execute(\n",
        "#         \"INSERT INTO weebyomiuri_user (username, email, phone, security_token) VALUES (%s, %s, %s, %s)\",\n",
        "#         (\"dummy\", \"dummy@gmail.com\", '000-000-0000', dummy_user_token)\n",
        "#     )\n",
        "#     conn.commit()\n",
        "# except Exception as e:\n",
        "#     print(\"Error:\", e)\n",
        "#     conn.rollback()\n"
      ]
    },
    {
      "cell_type": "code",
      "execution_count": null,
      "id": "4a106862",
      "metadata": {},
      "outputs": [],
      "source": [
        "#✅ give admin and add permissions\n",
        "# try:\n",
        "#     cursor.execute(\n",
        "#         \"INSERT INTO admin (userID, admin_level, permissions) VALUES (%s, %s, %s)\",\n",
        "#         (1, \"SUPER ADMIN\", ['READ','CREATE', 'EDIT', 'DELETE'])\n",
        "#     )\n",
        "#     conn.commit()\n",
        "# except Exception as e:\n",
        "#     print(\"Error:\", e)\n",
        "#     conn.rollback()\n"
      ]
    },
    {
      "cell_type": "code",
      "execution_count": null,
      "id": "ad02d432",
      "metadata": {},
      "outputs": [],
      "source": [
        "#✅ add records to the premiered_season_year table\n",
        "# try:\n",
        "#     season_year= [('SPRING', 2025), ('WINTER', 2025), ('FALL', 2024), ('SUMMER', 2024),('SPRING', 2024), ('WINTER', 2024)]\n",
        "#     insert_season_year = \"\"\"INSERT INTO premiered_season_year (season,year) VALUES (%s, %s)\"\"\"\n",
        "#     cursor.executemany(insert_season_year, season_year)\n",
        "# except Exception as e:\n",
        "#     print(\"Error:\", e)\n",
        "#     conn.rollback()"
      ]
    },
    {
      "cell_type": "code",
      "execution_count": null,
      "id": "805a4ecd-082a-4cac-a675-59566003abab",
      "metadata": {
        "scrolled": true,
        "trusted": true
      },
      "outputs": [],
      "source": [
        "\n",
        "#✅ insert genre\n",
        "# url = \"https://api.jikan.moe/v4/genres/anime\" \n",
        "# headers = {'Content-Type': 'application/json'}\n",
        "# try:\n",
        "#   response = requests.get(url, headers=headers)\n",
        "#   response.raise_for_status() # Raises HTTPError for bad responses (4xx or 5xx)\n",
        "  \n",
        "# except requests.exceptions.RequestException as e:\n",
        "#   print(f\"An error occurred: {e}\")\n",
        "\n",
        "# data = response.json()['data']\n",
        "# genres_list = []\n",
        "# for i in data:\n",
        "#     if i['name'] != 'Hentai':\n",
        "#         genres_list.append(i['name'])\n",
        "# genres_list = list(zip(genres_list))\n",
        "\n",
        "# insert_genre = \"\"\"INSERT INTO genre (genre_name) VALUES (%s)\"\"\"\n",
        "# cursor.executemany(insert_genre, genres_list)\n"
      ]
    },
    {
      "cell_type": "code",
      "execution_count": 32,
      "id": "3c855327",
      "metadata": {},
      "outputs": [],
      "source": [
        "#✅ get anime data\n",
        "url = \"https://api.jikan.moe/v4/top/anime?sfw&page=1\"\n",
        "headers = {'Content-Type': 'application/json'}\n",
        "\n",
        "try:\n",
        "  response = requests.get(url, headers=headers)\n",
        "  response.raise_for_status() # Raises HTTPError for bad responses (4xx or 5xx)\n",
        "  \n",
        "except requests.exceptions.RequestException as e:\n",
        "  print(f\"An error occurred: {e}\")\n",
        "\n",
        "anime_data = response.json()"
      ]
    },
    {
      "cell_type": "code",
      "execution_count": 66,
      "id": "59d0f0d8",
      "metadata": {},
      "outputs": [],
      "source": [
        "#✅ get manga data\n",
        "url = \"https://api.jikan.moe/v4/top/manga?page=1\"\n",
        "headers = {'Content-Type': 'application/json'}\n",
        "\n",
        "try:\n",
        "  response = requests.get(url, headers=headers)\n",
        "  response.raise_for_status() # Raises HTTPError for bad responses (4xx or 5xx)\n",
        "  \n",
        "except requests.exceptions.RequestException as e:\n",
        "  print(f\"An error occurred: {e}\")\n",
        "\n",
        "manga_data = response.json()"
      ]
    },
    {
      "cell_type": "code",
      "execution_count": null,
      "id": "3582fd26",
      "metadata": {},
      "outputs": [],
      "source": [
        "#print(json.dumps(manga_data['data'][0], indent=4))\n",
        "#print(manga_data['data'][0]['title_english'])\n",
        "#print(manga_data['data'][0]['title_japanese'])\n",
        "# print(manga_data['data'][0]['synopsis'])\n",
        "# if (manga_data['data'][2]['volumes'] != None):\n",
        "#      print(\"TEST NONE\")\n",
        "# print(manga_data['data'][0]['volumes'])\n",
        "# print(manga_data['data'][0]['published']['from'])\n",
        "# print(manga_data['data'][0]['published']['to'])\n",
        "# print(manga_data['data'][10]['serializations'])\n",
        "# if (len(manga_data['data'][10]['serializations']) == 0):\n",
        "#      print('tr')\n",
        "# print(manga_data['data'][0]['images']['jpg']['image_url'])\n",
        "# print(manga_data['data'][0]['url'])\n",
        "\n",
        "# english_title VARCHAR(150),\n",
        "# japanese_title VARCHAR(150),\n",
        "# manga_synopsis TEXT,\n",
        "# volumes INTEGER,\n",
        "# publish_start_date DATE,\n",
        "# publish_end_date DATE,\n",
        "# serialized BOOLEAN,\n",
        "# manga_image VARCHAR(255),\n",
        "# sources_manga_analysis VARCHAR(255)\n",
        "\n",
        "#✅ insert manga table base\n",
        "# insert_manga_query = \"INSERT into manga(english_title, japanese_title, manga_synopsis, volumes\" \\\n",
        "# \",publish_start_date, publish_end_date, serialized, sources_manga_analysis, manga_image) VALUES (%s, %s, %s, %s, %s, %s, %s, %s, %s)\"\n",
        "\n",
        "# try:\n",
        "#     for i in range(1, len(manga_data['data'])):\n",
        "#         if(manga_data['data'][i]['title_english'] != None):\n",
        "#             if(manga_data['data'][i]['volumes'] != None):\n",
        "#                 if(len(manga_data['data'][i]['serializations']) == 0):\n",
        "#                     manga_data_noser = (manga_data['data'][i]['title_english'],manga_data['data'][i]['title_japanese'],manga_data['data'][i]['synopsis'],\n",
        "#                     manga_data['data'][i]['volumes'],manga_data['data'][i]['published']['from'], manga_data['data'][i]['published']['to'],\n",
        "#                     'FALSE', manga_data['data'][i]['url'], manga_data['data'][i]['images']['jpg']['image_url'])\n",
        "#                     cursor.execute(insert_manga_query,manga_data_noser)\n",
        "#                 else:\n",
        "#                     manga_data_withserial =(manga_data['data'][i]['title_english'],manga_data['data'][i]['title_japanese'],manga_data['data'][i]['synopsis'],\n",
        "#                     manga_data['data'][i]['volumes'],manga_data['data'][i]['published']['from'], manga_data['data'][i]['published']['to'],\n",
        "#                     'TRUE', manga_data['data'][i]['url'],manga_data['data'][i]['images']['jpg']['image_url'])\n",
        "#                     cursor.execute(insert_manga_query,manga_data_withserial)\n",
        "# except Exception as e:\n",
        "#     print(\"Error:\", e)\n",
        "#     conn.rollback()\n"
      ]
    },
    {
      "cell_type": "code",
      "execution_count": 27,
      "id": "97c15de3",
      "metadata": {},
      "outputs": [],
      "source": [
        "#✅ get more detailed anime data\n",
        "id = anime_data['data'][0]['mal_id']\n",
        "url = f\"https://api.jikan.moe/v4/anime/{id}/full\"\n",
        "headers = {'Content-Type': 'application/json'}\n",
        "url_recommendations = f\"https://api.jikan.moe/v4/anime/{id}/recommendations\"\n",
        "\n",
        "try:\n",
        "  response = requests.get(url, headers=headers)\n",
        "  response_recommendations = requests.get(url_recommendations, headers=headers)\n",
        "  response.raise_for_status() # Raises HTTPError for bad responses (4xx or 5xx)\n",
        "  \n",
        "except requests.exceptions.RequestException as e:\n",
        "  print(f\"An error occurred: {e}\")\n",
        "\n",
        "data_anime_detailed = response.json()\n",
        "data_anime_recommendations = response_recommendations.json()"
      ]
    },
    {
      "cell_type": "code",
      "execution_count": 28,
      "id": "882aaa71",
      "metadata": {},
      "outputs": [
        {
          "data": {
            "text/plain": [
              "28"
            ]
          },
          "execution_count": 28,
          "metadata": {},
          "output_type": "execute_result"
        }
      ],
      "source": [
        "data_anime_detailed['data']['episodes']"
      ]
    },
    {
      "cell_type": "code",
      "execution_count": 30,
      "id": "e8cc7f96",
      "metadata": {},
      "outputs": [
        {
          "data": {
            "text/plain": [
              "'Dungeon Meshi'"
            ]
          },
          "execution_count": 30,
          "metadata": {},
          "output_type": "execute_result"
        }
      ],
      "source": [
        "data_anime_recommendations['data'][3]['entry']['title']"
      ]
    },
    {
      "cell_type": "code",
      "execution_count": null,
      "id": "2d8fa43a",
      "metadata": {},
      "outputs": [
        {
          "name": "stdout",
          "output_type": "stream",
          "text": [
            "2024-03-22T00:00:00+00:00\n"
          ]
        }
      ],
      "source": [
        "#✅ testing code\n",
        "# for i in range(1, len(anime_data['data'])):\n",
        "#     print(data['data'][i]['mal_id'])\n",
        "\n",
        "\n",
        "# print(anime_data['data'][0]['synopsis'])\n",
        "# print(anime_data['data'][0]['broadcast']['string'])\n",
        "# print(anime_data['data'][0]['aired']['from'])\n",
        "# print(anime_data['data'][0]['aired']['to'])\n",
        "# print(anime_data['data'][0]['season'].upper())\n",
        "# print(anime_data['data'][0]['year'])\n",
        "# print(anime_data['data'][0]['url'])\n",
        "# print(anime_data['data'][0]['images']['jpg']['image_url'])\n"
      ]
    },
    {
      "cell_type": "code",
      "execution_count": null,
      "id": "835963cc",
      "metadata": {},
      "outputs": [],
      "source": [
        "#✅ insert anime table base\n",
        "# insert_anime_query = \"INSERT into anime(english_title, japanese_title, anime_synopsis,broadcast_date_time \" \\\n",
        "# \",release_date,end_date, sources_anime_analysis, anime_image) VALUES (%s, %s, %s, %s, %s, %s, %s, %s)\"\n",
        "\n",
        "# try:\n",
        "#     for i in range(1, len(anime_data['data'])):\n",
        "#         cursor.execute(insert_anime_query,\n",
        "#             (anime_data['data'][i]['title_english'],anime_data['data'][i]['title_japanese'], anime_data['data'][i]['synopsis'],anime_data['data'][i]['broadcast']['string'],\n",
        "#             anime_data['data'][i]['aired']['from'],anime_data['data'][i]['aired']['to'],anime_data['data'][i]['url'],anime_data['data'][i]['images']['jpg']['image_url']))\n",
        "# except Exception as e:\n",
        "#     print(\"Error:\", e)\n",
        "#     conn.rollback()"
      ]
    },
    {
      "cell_type": "code",
      "execution_count": null,
      "id": "e735e7da",
      "metadata": {},
      "outputs": [],
      "source": [
        "#✅ clean the data\n",
        "# try: \n",
        "#     cursor.execute(\"UPDATE manga SET publish_end_date = %s WHERE mangaID = %s\", ('1973-05-13',12))\n",
        "#     conn.commit()\n",
        "#     # cursor.execute(\"DELETE FROM manga WHERE mangaID = %s\", (1,))\n",
        "#     # conn.commit()\n",
        "# except Exception as e:\n",
        "#     print(\"Error:\", e)\n",
        "#     conn.rollback()\n"
      ]
    },
    {
      "cell_type": "code",
      "execution_count": null,
      "id": "003f9a7e",
      "metadata": {},
      "outputs": [],
      "source": [
        "#✅ query to get table by name\n",
        "search_tags = 'select * from manga;'\n",
        "#executing query\n",
        "cursor.execute(search_tags)\n",
        "#fetching the result\n",
        "cursor.fetchall()"
      ]
    },
    {
      "cell_type": "code",
      "execution_count": 138,
      "id": "e844c4d9",
      "metadata": {},
      "outputs": [],
      "source": [
        "#✅ commit your changes in the database\n",
        "conn.commit()"
      ]
    },
    {
      "cell_type": "code",
      "execution_count": 251,
      "id": "fa5e8e2a",
      "metadata": {},
      "outputs": [],
      "source": [
        "#✅ close connection\n",
        "conn.close()"
      ]
    }
  ],
  "metadata": {
    "kernelspec": {
      "display_name": "Python 3",
      "language": "python",
      "name": "python3"
    },
    "language_info": {
      "codemirror_mode": {
        "name": "ipython",
        "version": 3
      },
      "file_extension": ".py",
      "mimetype": "text/x-python",
      "name": "python",
      "nbconvert_exporter": "python",
      "pygments_lexer": "ipython3",
      "version": "3.9.7"
    }
  },
  "nbformat": 4,
  "nbformat_minor": 5
}
